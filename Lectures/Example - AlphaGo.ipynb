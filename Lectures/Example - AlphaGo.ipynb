{
 "cells": [
  {
   "cell_type": "raw",
   "source": [
    " # Understanding AlphaGo\n",
    " AlphaGo is a computer program that plays the board game Go. It was developed by Alphabet Inc.'s Google DeepMind in London. AlphaGo has played thousands of games against itself to improve its play and it has defeated every top professional Go player. AlphaGo's algorithm uses a combination of machine learning and tree search techniques, combined with extensive training, both from human and computer play.\n",
    " \n",
    " ## How does AlphaGo work?\n",
    "    AlphaGo uses a Monte Carlo tree search to find its moves based on knowledge previously \"learned\" by machine learning, specifically by an artificial neural network (a deep learning method) by extensive training, both from human and computer play. This neural net takes a description of the Go board as an input and processes it through 12 different network layers containing millions of neuron-like connections. Using a large database of historical games as a reference, the neural net is trained to predict the eventual winner of positions. After extensive training, the neural net \"knows\" a lot about how to play Go.\n",
    "    \n",
    "    AlphaGo's tree search looks many moves ahead by playing out the remainder of the game in its \"imagination\". Each possible move is simulated by playing out the game to the very end (\"rollout\"). The AlphaGo program selects its moves based on the results of these rollouts and the neural net evaluations.\n",
    "    \n",
    "    The paper describing Alpha go can be found [here](https://storage.googleapis.com/deepmind-media/alphago/AlphaGoNaturePaper.pdf)."
   ],
   "metadata": {
    "collapsed": false
   },
   "id": "848451ff8b7d0e72"
  },
  {
   "cell_type": "code",
   "execution_count": null,
   "id": "initial_id",
   "metadata": {
    "collapsed": true
   },
   "outputs": [],
   "source": []
  }
 ],
 "metadata": {
  "kernelspec": {
   "display_name": "Python 3",
   "language": "python",
   "name": "python3"
  },
  "language_info": {
   "codemirror_mode": {
    "name": "ipython",
    "version": 2
   },
   "file_extension": ".py",
   "mimetype": "text/x-python",
   "name": "python",
   "nbconvert_exporter": "python",
   "pygments_lexer": "ipython2",
   "version": "2.7.6"
  }
 },
 "nbformat": 4,
 "nbformat_minor": 5
}
